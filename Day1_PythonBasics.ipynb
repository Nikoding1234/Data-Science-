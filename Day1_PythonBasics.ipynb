{
 "cells": [
  {
   "cell_type": "code",
   "execution_count": 1,
   "id": "f3c675b4-5a72-4997-9dbf-e2f7b56fd140",
   "metadata": {},
   "outputs": [],
   "source": [
    "a=10"
   ]
  },
  {
   "cell_type": "code",
   "execution_count": 2,
   "id": "c2a10f7f-117f-4e8e-bd98-ff9d39b554a0",
   "metadata": {},
   "outputs": [
    {
     "data": {
      "text/plain": [
       "10"
      ]
     },
     "execution_count": 2,
     "metadata": {},
     "output_type": "execute_result"
    }
   ],
   "source": [
    "a"
   ]
  },
  {
   "cell_type": "markdown",
   "id": "b7d20507-fbc7-4ffd-b12e-349a200b5ebb",
   "metadata": {
    "tags": []
   },
   "source": [
    "## This is intro class\n",
    "#### Data Science"
   ]
  },
  {
   "cell_type": "code",
   "execution_count": 4,
   "id": "a059fba4-1ace-486a-9008-1c4a737f5c22",
   "metadata": {},
   "outputs": [
    {
     "data": {
      "text/plain": [
       "10"
      ]
     },
     "execution_count": 4,
     "metadata": {},
     "output_type": "execute_result"
    }
   ],
   "source": [
    "## this is a comment\n",
    "a=10\n",
    "a"
   ]
  },
  {
   "cell_type": "code",
   "execution_count": 5,
   "id": "9e9adacc-0101-4f44-9dde-07ec2b36122d",
   "metadata": {},
   "outputs": [
    {
     "data": {
      "text/plain": [
       "20"
      ]
     },
     "execution_count": 5,
     "metadata": {},
     "output_type": "execute_result"
    }
   ],
   "source": [
    "\"\"\"\n",
    "hello this an example of python\n",
    "Example of multiline comments\n",
    "\"\"\"\n",
    "a=20\n",
    "a"
   ]
  },
  {
   "cell_type": "markdown",
   "id": "c62ba4e2-f689-47c3-a052-8d38f8bcffc7",
   "metadata": {},
   "source": [
    "### NUMBERS"
   ]
  },
  {
   "cell_type": "code",
   "execution_count": 6,
   "id": "60800e6a-f0b4-4d8f-a13c-a472271599da",
   "metadata": {},
   "outputs": [
    {
     "data": {
      "text/plain": [
       "4"
      ]
     },
     "execution_count": 6,
     "metadata": {},
     "output_type": "execute_result"
    }
   ],
   "source": [
    "1+3"
   ]
  },
  {
   "cell_type": "code",
   "execution_count": 7,
   "id": "f7d64ef0-0c96-4be5-a442-7328442ad4dd",
   "metadata": {},
   "outputs": [
    {
     "name": "stdout",
     "output_type": "stream",
     "text": [
      "4\n"
     ]
    }
   ],
   "source": [
    "print(1+3)"
   ]
  },
  {
   "cell_type": "code",
   "execution_count": 8,
   "id": "11fdd51e-d0d0-4fb7-b17f-dca51041dd8e",
   "metadata": {},
   "outputs": [
    {
     "name": "stdout",
     "output_type": "stream",
     "text": [
      "Hello World \n",
      " my name is Nikhil\n"
     ]
    }
   ],
   "source": [
    "print(\"Hello World \\n my name is Nikhil\")"
   ]
  },
  {
   "cell_type": "markdown",
   "id": "4ae19a02-f06b-4dda-b13a-494b5a0f0f69",
   "metadata": {},
   "source": [
    "### VARIABLES ASSIGNMENT"
   ]
  },
  {
   "cell_type": "code",
   "execution_count": 16,
   "id": "642c04b1-810f-4387-9494-8123fd42345a",
   "metadata": {},
   "outputs": [],
   "source": [
    "name=\"Nikhil\"\n",
    "college=\"JUET\""
   ]
  },
  {
   "cell_type": "code",
   "execution_count": 17,
   "id": "ec58ef2f-2de3-4012-8ae3-4b7144e2691c",
   "metadata": {},
   "outputs": [
    {
     "data": {
      "text/plain": [
       "'JUET'"
      ]
     },
     "execution_count": 17,
     "metadata": {},
     "output_type": "execute_result"
    }
   ],
   "source": [
    "college"
   ]
  },
  {
   "cell_type": "code",
   "execution_count": 18,
   "id": "d3bc62fb-2f7f-44c1-9f8f-0d51de98c676",
   "metadata": {},
   "outputs": [
    {
     "data": {
      "text/plain": [
       "'Nikhil'"
      ]
     },
     "execution_count": 18,
     "metadata": {},
     "output_type": "execute_result"
    }
   ],
   "source": [
    "name"
   ]
  },
  {
   "cell_type": "code",
   "execution_count": 20,
   "id": "aadd92fd-9400-4995-af0e-a038c5f5de05",
   "metadata": {},
   "outputs": [],
   "source": [
    "number=10"
   ]
  },
  {
   "cell_type": "code",
   "execution_count": 22,
   "id": "e5ed88bf-6b6e-4e2e-9b8a-5c2d72878e18",
   "metadata": {},
   "outputs": [
    {
     "data": {
      "text/plain": [
       "20"
      ]
     },
     "execution_count": 22,
     "metadata": {},
     "output_type": "execute_result"
    }
   ],
   "source": [
    "number=20\n",
    "number"
   ]
  },
  {
   "cell_type": "code",
   "execution_count": 23,
   "id": "aee6a16f-14c5-4f93-b49b-db5e0404c42b",
   "metadata": {},
   "outputs": [
    {
     "data": {
      "text/plain": [
       "str"
      ]
     },
     "execution_count": 23,
     "metadata": {},
     "output_type": "execute_result"
    }
   ],
   "source": [
    "type(\"\")"
   ]
  },
  {
   "cell_type": "code",
   "execution_count": 24,
   "id": "76cc167d-8b37-46a8-80bd-239592b18453",
   "metadata": {},
   "outputs": [
    {
     "data": {
      "text/plain": [
       "int"
      ]
     },
     "execution_count": 24,
     "metadata": {},
     "output_type": "execute_result"
    }
   ],
   "source": [
    "type(10)"
   ]
  },
  {
   "cell_type": "code",
   "execution_count": 25,
   "id": "f9459c76-b995-4631-9fbe-9862707cb4b9",
   "metadata": {},
   "outputs": [],
   "source": [
    "decimal_no=2.5"
   ]
  },
  {
   "cell_type": "code",
   "execution_count": 26,
   "id": "8975bafa-3cf1-4499-a202-aca7ec63edf0",
   "metadata": {},
   "outputs": [
    {
     "data": {
      "text/plain": [
       "2.5"
      ]
     },
     "execution_count": 26,
     "metadata": {},
     "output_type": "execute_result"
    }
   ],
   "source": [
    "decimal_no"
   ]
  },
  {
   "cell_type": "code",
   "execution_count": 27,
   "id": "cb8422a0-92b1-4fb8-8640-78ffd78a0a61",
   "metadata": {},
   "outputs": [
    {
     "data": {
      "text/plain": [
       "float"
      ]
     },
     "execution_count": 27,
     "metadata": {},
     "output_type": "execute_result"
    }
   ],
   "source": [
    "type(decimal_no)"
   ]
  },
  {
   "cell_type": "code",
   "execution_count": 28,
   "id": "bb11f3ef-e303-4d2a-bfa6-072762611211",
   "metadata": {},
   "outputs": [
    {
     "data": {
      "text/plain": [
       "complex"
      ]
     },
     "execution_count": 28,
     "metadata": {},
     "output_type": "execute_result"
    }
   ],
   "source": [
    "type(1+2j)"
   ]
  },
  {
   "cell_type": "code",
   "execution_count": 29,
   "id": "72458334-832f-4d41-8ef5-0aaa35afd827",
   "metadata": {},
   "outputs": [
    {
     "name": "stdout",
     "output_type": "stream",
     "text": [
      "Hello\n",
      "Hello\n"
     ]
    }
   ],
   "source": [
    "print('Hello')\n",
    "print(\"Hello\")"
   ]
  },
  {
   "cell_type": "code",
   "execution_count": 30,
   "id": "9d1285a5-116a-4d8d-bafc-ad7bfadac77d",
   "metadata": {},
   "outputs": [],
   "source": [
    "#Variables are case sensitive\n",
    "company='ineuron'\n",
    "Company='PW'"
   ]
  },
  {
   "cell_type": "code",
   "execution_count": 31,
   "id": "5e2af50c-2eb1-467c-9e4b-503694c7978a",
   "metadata": {},
   "outputs": [
    {
     "data": {
      "text/plain": [
       "'ineuron'"
      ]
     },
     "execution_count": 31,
     "metadata": {},
     "output_type": "execute_result"
    }
   ],
   "source": [
    "company"
   ]
  },
  {
   "cell_type": "code",
   "execution_count": null,
   "id": "c73e80ef-29a1-4982-89c4-01e69a26fa49",
   "metadata": {},
   "outputs": [],
   "source": [
    "## Reserved Keywords\n",
    "\"\"\"\n",
    "int,float,str,bool,return,len,yield\n",
    "\"\"\""
   ]
  },
  {
   "cell_type": "code",
   "execution_count": 32,
   "id": "ead75c93-25a1-4b13-bd04-c789884253c8",
   "metadata": {},
   "outputs": [
    {
     "data": {
      "text/plain": [
       "False"
      ]
     },
     "execution_count": 32,
     "metadata": {},
     "output_type": "execute_result"
    }
   ],
   "source": [
    "True and False"
   ]
  },
  {
   "cell_type": "code",
   "execution_count": 33,
   "id": "8db403c5-8c09-47f0-bcce-32fefd44341b",
   "metadata": {},
   "outputs": [
    {
     "data": {
      "text/plain": [
       "True"
      ]
     },
     "execution_count": 33,
     "metadata": {},
     "output_type": "execute_result"
    }
   ],
   "source": [
    "True or False"
   ]
  },
  {
   "cell_type": "code",
   "execution_count": 35,
   "id": "8ee45027-9fcf-4ac3-935f-ab425060385e",
   "metadata": {},
   "outputs": [
    {
     "data": {
      "text/plain": [
       "bool"
      ]
     },
     "execution_count": 35,
     "metadata": {},
     "output_type": "execute_result"
    }
   ],
   "source": [
    "type(not True)"
   ]
  },
  {
   "cell_type": "code",
   "execution_count": 36,
   "id": "2e009db8-1187-415b-aaec-a9424cb5d2d2",
   "metadata": {},
   "outputs": [
    {
     "data": {
      "text/plain": [
       "True"
      ]
     },
     "execution_count": 36,
     "metadata": {},
     "output_type": "execute_result"
    }
   ],
   "source": [
    "## Typecasting\n",
    "bool(1)\n"
   ]
  },
  {
   "cell_type": "code",
   "execution_count": 38,
   "id": "724eebfc-93c5-4492-bacf-90ea91835a4a",
   "metadata": {},
   "outputs": [
    {
     "name": "stdout",
     "output_type": "stream",
     "text": [
      "True\n"
     ]
    }
   ],
   "source": [
    "a=1\n",
    "if bool(a)==True:\n",
    "    print(\"True\")"
   ]
  },
  {
   "cell_type": "code",
   "execution_count": 39,
   "id": "db4f997f-c37a-4afa-932f-3e087baf4fc4",
   "metadata": {},
   "outputs": [
    {
     "data": {
      "text/plain": [
       "'23'"
      ]
     },
     "execution_count": 39,
     "metadata": {},
     "output_type": "execute_result"
    }
   ],
   "source": [
    "str(23)"
   ]
  },
  {
   "cell_type": "code",
   "execution_count": 40,
   "id": "34533b74-129a-47b9-86a7-5290034c625d",
   "metadata": {},
   "outputs": [
    {
     "data": {
      "text/plain": [
       "23"
      ]
     },
     "execution_count": 40,
     "metadata": {},
     "output_type": "execute_result"
    }
   ],
   "source": [
    "int('23')"
   ]
  },
  {
   "cell_type": "code",
   "execution_count": 42,
   "id": "64d935dc-5599-4359-ab64-ad9cede2a3da",
   "metadata": {},
   "outputs": [
    {
     "data": {
      "text/plain": [
       "int"
      ]
     },
     "execution_count": 42,
     "metadata": {},
     "output_type": "execute_result"
    }
   ],
   "source": [
    "type(int('23'))"
   ]
  },
  {
   "cell_type": "markdown",
   "id": "add67fa2-5b30-4feb-8b77-7269b691d30b",
   "metadata": {},
   "source": [
    "### DYNAMIC TYPING"
   ]
  },
  {
   "cell_type": "code",
   "execution_count": 46,
   "id": "122dc11a-3559-4658-ab37-b6de817f8da3",
   "metadata": {},
   "outputs": [],
   "source": [
    "a=12\n",
    "str1='Nikhil'\n",
    "a=\"var\""
   ]
  },
  {
   "cell_type": "code",
   "execution_count": 47,
   "id": "3b601050-3705-44cb-8029-e2839f077d90",
   "metadata": {},
   "outputs": [
    {
     "name": "stdout",
     "output_type": "stream",
     "text": [
      "<class 'str'>\n"
     ]
    }
   ],
   "source": [
    "print(type(a))"
   ]
  },
  {
   "cell_type": "code",
   "execution_count": 48,
   "id": "56fe073f-4d1f-474d-8d8c-7e0309b7a181",
   "metadata": {},
   "outputs": [],
   "source": [
    "## concatenation between different types"
   ]
  },
  {
   "cell_type": "code",
   "execution_count": 50,
   "id": "d00a3d12-03f0-45e1-bd7c-f9ceb5e8bf68",
   "metadata": {},
   "outputs": [
    {
     "data": {
      "text/plain": [
       "2"
      ]
     },
     "execution_count": 50,
     "metadata": {},
     "output_type": "execute_result"
    }
   ],
   "source": [
    "int('1') + int ('1')"
   ]
  },
  {
   "cell_type": "code",
   "execution_count": 51,
   "id": "fef9ea75-054d-4fae-986a-b63065b55174",
   "metadata": {},
   "outputs": [
    {
     "data": {
      "text/plain": [
       "'11'"
      ]
     },
     "execution_count": 51,
     "metadata": {},
     "output_type": "execute_result"
    }
   ],
   "source": [
    "'1'+'1'"
   ]
  },
  {
   "cell_type": "code",
   "execution_count": 52,
   "id": "03779c4c-fcd4-4879-aad2-a26f0ae8f4a9",
   "metadata": {},
   "outputs": [
    {
     "ename": "TypeError",
     "evalue": "can't multiply sequence by non-int of type 'str'",
     "output_type": "error",
     "traceback": [
      "\u001b[0;31m---------------------------------------------------------------------------\u001b[0m",
      "\u001b[0;31mTypeError\u001b[0m                                 Traceback (most recent call last)",
      "Cell \u001b[0;32mIn[52], line 1\u001b[0m\n\u001b[0;32m----> 1\u001b[0m \u001b[38;5;124;43m'\u001b[39;49m\u001b[38;5;124;43m1\u001b[39;49m\u001b[38;5;124;43m'\u001b[39;49m\u001b[38;5;241;43m*\u001b[39;49m\u001b[38;5;124;43m'\u001b[39;49m\u001b[38;5;124;43m1\u001b[39;49m\u001b[38;5;124;43m'\u001b[39;49m\n",
      "\u001b[0;31mTypeError\u001b[0m: can't multiply sequence by non-int of type 'str'"
     ]
    }
   ],
   "source": [
    "'1'*'1'"
   ]
  },
  {
   "cell_type": "code",
   "execution_count": 53,
   "id": "681035ff-3a17-4d41-b1a7-4a6005fd14f5",
   "metadata": {},
   "outputs": [
    {
     "data": {
      "text/plain": [
       "'1111111111111111111111111111111111111111111111111111111111111111111111111111111111111111111111111111'"
      ]
     },
     "execution_count": 53,
     "metadata": {},
     "output_type": "execute_result"
    }
   ],
   "source": [
    "'1'*100"
   ]
  },
  {
   "cell_type": "code",
   "execution_count": 54,
   "id": "867a3ee3-ac57-4a54-a2b2-8b881ba155f6",
   "metadata": {},
   "outputs": [
    {
     "data": {
      "text/plain": [
       "'abcdef'"
      ]
     },
     "execution_count": 54,
     "metadata": {},
     "output_type": "execute_result"
    }
   ],
   "source": [
    "'abc'+'def'"
   ]
  },
  {
   "cell_type": "code",
   "execution_count": null,
   "id": "fdc64299-da47-44fd-8583-a7984ca294ba",
   "metadata": {},
   "outputs": [],
   "source": []
  }
 ],
 "metadata": {
  "kernelspec": {
   "display_name": "Python 3 (ipykernel)",
   "language": "python",
   "name": "python3"
  },
  "language_info": {
   "codemirror_mode": {
    "name": "ipython",
    "version": 3
   },
   "file_extension": ".py",
   "mimetype": "text/x-python",
   "name": "python",
   "nbconvert_exporter": "python",
   "pygments_lexer": "ipython3",
   "version": "3.10.8"
  }
 },
 "nbformat": 4,
 "nbformat_minor": 5
}
