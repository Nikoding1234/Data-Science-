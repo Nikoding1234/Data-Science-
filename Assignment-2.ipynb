{
 "cells": [
  {
   "cell_type": "markdown",
   "id": "b5f46bda-a8a0-4bf3-8a40-7c64c751aedc",
   "metadata": {},
   "source": [
    "### Displaying grade"
   ]
  },
  {
   "cell_type": "code",
   "execution_count": 9,
   "id": "ab74483f-bcbe-41b0-960f-4b32c71d3aa8",
   "metadata": {},
   "outputs": [
    {
     "name": "stdin",
     "output_type": "stream",
     "text": [
      "Enter the marks: 82\n"
     ]
    },
    {
     "name": "stdout",
     "output_type": "stream",
     "text": [
      "B\n"
     ]
    }
   ],
   "source": [
    "marks=int(input(\"Enter the marks:\"))\n",
    "if marks>90:\n",
    "    print(\"A\")\n",
    "elif (marks>80 and marks<=90):\n",
    "    print(\"B\")\n",
    "elif (marks>=60 and marks<=80):\n",
    "    print(\"C\")\n",
    "else:\n",
    "    print(\"D\")"
   ]
  },
  {
   "cell_type": "markdown",
   "id": "1553ffba-d6d2-4f93-812a-94e1d2a264e0",
   "metadata": {},
   "source": [
    "### Calculate road tax"
   ]
  },
  {
   "cell_type": "code",
   "execution_count": 12,
   "id": "60abf8ea-1058-44c0-8fee-d82bec6393c5",
   "metadata": {},
   "outputs": [
    {
     "name": "stdin",
     "output_type": "stream",
     "text": [
      "Enter the cost price: 800000\n"
     ]
    },
    {
     "name": "stdout",
     "output_type": "stream",
     "text": [
      "Tax to paid: 120000.0\n"
     ]
    }
   ],
   "source": [
    "cost_price=int(input(\"Enter the cost price:\"))\n",
    "if cost_price>100000:\n",
    "    road_tax=cost_price*0.15\n",
    "    print(f\"Tax to paid: {road_tax}\")\n",
    "elif cost_price>50000 and cost_price<=100000:\n",
    "    road_tax=cost_price*0.10\n",
    "    print(f\"Tax to paid: {road_tax}\")\n",
    "else:\n",
    "    road_tax=cost_price*0.5\n",
    "    print(f\"Tax to paid: {road_tax}\")"
   ]
  },
  {
   "cell_type": "code",
   "execution_count": 5,
   "id": "f18933bc-00f9-4f4b-a5d9-3f490ba5c423",
   "metadata": {},
   "outputs": [
    {
     "name": "stdin",
     "output_type": "stream",
     "text": [
      "Enter the city: Delhi\n"
     ]
    },
    {
     "name": "stdout",
     "output_type": "stream",
     "text": [
      "Red Fort\n"
     ]
    }
   ],
   "source": [
    "city=input(\"Enter the city:\")\n",
    "if city==\"Delhi\":\n",
    "    print(\"Red Fort\")\n",
    "elif city==\"Agra\":\n",
    "    print(\"Taj Mahal\")\n",
    "elif city==\"Jaipur\":\n",
    "    print(\"Jal Mahal\")\n",
    "else:\n",
    "    print(\"Enter the right city\")"
   ]
  },
  {
   "cell_type": "markdown",
   "id": "287213a8-1563-4d16-9a1d-359fdd3733c0",
   "metadata": {},
   "source": [
    "### Calculate number of itereation"
   ]
  },
  {
   "cell_type": "code",
   "execution_count": 14,
   "id": "bfca6b6b-5505-481a-87ec-98f0b65f1482",
   "metadata": {},
   "outputs": [
    {
     "name": "stdin",
     "output_type": "stream",
     "text": [
      "Enter the number: 156\n"
     ]
    },
    {
     "name": "stdout",
     "output_type": "stream",
     "text": [
      "3\n"
     ]
    }
   ],
   "source": [
    "num=int(input(\"Enter the number:\"))\n",
    "count=0\n",
    "while num>=10:\n",
    "    num=num/3\n",
    "    count=count+1\n",
    "print(count)"
   ]
  },
  {
   "cell_type": "markdown",
   "id": "ad9fcb19-cdcf-47b3-9c9f-b4bdbf2e28ee",
   "metadata": {},
   "source": [
    "#### Why and When to use WHILE loop\n",
    "1. When we've to repeat the task\n",
    "2. Don't know how many times we've to itereate\n",
    "3. infinite loops"
   ]
  },
  {
   "cell_type": "markdown",
   "id": "38557106-a16d-4d2e-8838-6a0609eee176",
   "metadata": {},
   "source": [
    "## printing any number between 20 and 30"
   ]
  },
  {
   "cell_type": "code",
   "execution_count": 20,
   "id": "8026af5f-42bd-4559-8eb0-67eea840e754",
   "metadata": {},
   "outputs": [
    {
     "name": "stdin",
     "output_type": "stream",
     "text": [
      "Enter the number: 55\n"
     ]
    },
    {
     "name": "stdout",
     "output_type": "stream",
     "text": [
      "Incorrect number\n"
     ]
    },
    {
     "name": "stdin",
     "output_type": "stream",
     "text": [
      "Enter the number: 25\n"
     ]
    },
    {
     "name": "stdout",
     "output_type": "stream",
     "text": [
      "The number is correct 25\n"
     ]
    }
   ],
   "source": [
    "num1=int(input(\"Enter the number:\"))\n",
    "while num1<20 or num1>30:\n",
    "    print(\"Incorrect number\")\n",
    "    num1=int(input(\"Enter the number:\"))\n",
    "else:\n",
    "    print(\"The number is correct\",num1)\n",
    "    "
   ]
  },
  {
   "cell_type": "markdown",
   "id": "c19d5a67-c6cc-46a3-8b90-f7999d2862d2",
   "metadata": {
    "tags": []
   },
   "source": [
    "### Reverse while loop\n"
   ]
  },
  {
   "cell_type": "markdown",
   "id": "4210045f-9e89-427e-8d87-a9e6e82c0472",
   "metadata": {},
   "source": [
    "### Nested WHILE loop with 3 different patterns\n"
   ]
  },
  {
   "cell_type": "code",
   "execution_count": 37,
   "id": "478cca35-e06e-4c2b-8263-866d1296fad5",
   "metadata": {},
   "outputs": [
    {
     "name": "stdout",
     "output_type": "stream",
     "text": [
      "* \n",
      "* * \n",
      "* * * \n",
      "* * * * \n",
      "* * * * * \n"
     ]
    }
   ],
   "source": [
    "num=5\n",
    "i = 1\n",
    "while i <= num:\n",
    "    j = 0\n",
    "    while j < i:\n",
    "        print('*', end=' ')\n",
    "        j = j + 1\n",
    "    print('')\n",
    "    i = i + 1"
   ]
  },
  {
   "cell_type": "code",
   "execution_count": 39,
   "id": "f6132929-824d-4916-a355-3c33295ebaec",
   "metadata": {},
   "outputs": [
    {
     "name": "stdout",
     "output_type": "stream",
     "text": [
      "* * * * * \n",
      "* * * * * \n",
      "* * * * * \n",
      "* * * * * \n",
      "* * * * * \n"
     ]
    }
   ],
   "source": [
    "num=5\n",
    "i = 1\n",
    "while i <= num:\n",
    "    j = 0\n",
    "    while j < num:\n",
    "        print('*', end=' ')\n",
    "        j = j + 1\n",
    "    print('')\n",
    "    i = i + 1"
   ]
  },
  {
   "cell_type": "code",
   "execution_count": 43,
   "id": "d2da5203-73f6-42f1-b2e5-e8857882ddc5",
   "metadata": {},
   "outputs": [
    {
     "name": "stdout",
     "output_type": "stream",
     "text": [
      "* * * * * \n",
      "* * * * \n",
      "* * * \n",
      "* * \n",
      "* \n"
     ]
    }
   ],
   "source": [
    "num=5\n",
    "i = 1\n",
    "while i <= num:\n",
    "    j = 0\n",
    "    while j < 6-i:\n",
    "        print('*', end=' ')\n",
    "        j = j + 1\n",
    "    print('')\n",
    "    i = i + 1"
   ]
  },
  {
   "cell_type": "code",
   "execution_count": 28,
   "id": "79da1d73-3781-46e4-a1db-9c08d8c886d2",
   "metadata": {},
   "outputs": [
    {
     "name": "stdin",
     "output_type": "stream",
     "text": [
      "Enter the number: 11\n"
     ]
    },
    {
     "name": "stdout",
     "output_type": "stream",
     "text": [
      "10\n",
      "9\n",
      "8\n",
      "7\n",
      "6\n",
      "5\n",
      "4\n",
      "3\n",
      "2\n",
      "1\n"
     ]
    }
   ],
   "source": [
    "num2=int(input(\"Enter the number:\"))\n",
    "while num2>1:\n",
    "    num2=num2-1\n",
    "    print(num2)\n"
   ]
  },
  {
   "cell_type": "code",
   "execution_count": 28,
   "id": "273f4be3-7ce1-436d-9d83-82e61bda2f17",
   "metadata": {},
   "outputs": [
    {
     "name": "stdin",
     "output_type": "stream",
     "text": [
      "Enter the number: 11\n"
     ]
    },
    {
     "name": "stdout",
     "output_type": "stream",
     "text": [
      "10\n",
      "9\n",
      "8\n",
      "7\n",
      "6\n",
      "5\n",
      "4\n",
      "3\n",
      "2\n",
      "1\n"
     ]
    }
   ],
   "source": [
    "num2=int(input(\"Enter the number:\"))\n",
    "while num2>1:\n",
    "    num2=num2-1\n",
    "    print(num2)\n"
   ]
  }
 ],
 "metadata": {
  "kernelspec": {
   "display_name": "Python 3 (ipykernel)",
   "language": "python",
   "name": "python3"
  },
  "language_info": {
   "codemirror_mode": {
    "name": "ipython",
    "version": 3
   },
   "file_extension": ".py",
   "mimetype": "text/x-python",
   "name": "python",
   "nbconvert_exporter": "python",
   "pygments_lexer": "ipython3",
   "version": "3.10.8"
  }
 },
 "nbformat": 4,
 "nbformat_minor": 5
}
